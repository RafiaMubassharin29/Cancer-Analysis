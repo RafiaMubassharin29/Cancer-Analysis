{
 "cells": [
  {
   "cell_type": "code",
   "execution_count": 1,
   "id": "42e841f6",
   "metadata": {},
   "outputs": [],
   "source": [
    "import pandas as pd"
   ]
  },
  {
   "cell_type": "code",
   "execution_count": 9,
   "id": "d4e0ea4b",
   "metadata": {},
   "outputs": [
    {
     "data": {
      "text/html": [
       "<div>\n",
       "<style scoped>\n",
       "    .dataframe tbody tr th:only-of-type {\n",
       "        vertical-align: middle;\n",
       "    }\n",
       "\n",
       "    .dataframe tbody tr th {\n",
       "        vertical-align: top;\n",
       "    }\n",
       "\n",
       "    .dataframe thead th {\n",
       "        text-align: right;\n",
       "    }\n",
       "</style>\n",
       "<table border=\"1\" class=\"dataframe\">\n",
       "  <thead>\n",
       "    <tr style=\"text-align: right;\">\n",
       "      <th></th>\n",
       "      <th>Recurrence</th>\n",
       "      <th>Gender_Male</th>\n",
       "      <th>Race/Ethnicity_Asian</th>\n",
       "      <th>Race/Ethnicity_Caucasian</th>\n",
       "      <th>Race/Ethnicity_Hispanic</th>\n",
       "      <th>Race/Ethnicity_Other</th>\n",
       "      <th>SmokingStatus_Non-Smoker</th>\n",
       "      <th>SmokingStatus_Smoker</th>\n",
       "      <th>FamilyHistory_Yes</th>\n",
       "      <th>CancerType_Colon</th>\n",
       "      <th>...</th>\n",
       "      <th>GeneticMarker_EGFR</th>\n",
       "      <th>GeneticMarker_KRAS</th>\n",
       "      <th>GeneticMarker_Not Taken</th>\n",
       "      <th>HospitalRegion_North</th>\n",
       "      <th>HospitalRegion_South</th>\n",
       "      <th>HospitalRegion_West</th>\n",
       "      <th>Age</th>\n",
       "      <th>BMI</th>\n",
       "      <th>TumorSize</th>\n",
       "      <th>SurvivalMonths</th>\n",
       "    </tr>\n",
       "  </thead>\n",
       "  <tbody>\n",
       "    <tr>\n",
       "      <th>0</th>\n",
       "      <td>1</td>\n",
       "      <td>0.0</td>\n",
       "      <td>0.0</td>\n",
       "      <td>0.0</td>\n",
       "      <td>0.0</td>\n",
       "      <td>1.0</td>\n",
       "      <td>0.0</td>\n",
       "      <td>1.0</td>\n",
       "      <td>1.0</td>\n",
       "      <td>0.0</td>\n",
       "      <td>...</td>\n",
       "      <td>0.0</td>\n",
       "      <td>0.0</td>\n",
       "      <td>1.0</td>\n",
       "      <td>0.0</td>\n",
       "      <td>1.0</td>\n",
       "      <td>0.0</td>\n",
       "      <td>0.861111</td>\n",
       "      <td>0.223256</td>\n",
       "      <td>0.077778</td>\n",
       "      <td>0.857143</td>\n",
       "    </tr>\n",
       "    <tr>\n",
       "      <th>1</th>\n",
       "      <td>1</td>\n",
       "      <td>1.0</td>\n",
       "      <td>0.0</td>\n",
       "      <td>1.0</td>\n",
       "      <td>0.0</td>\n",
       "      <td>0.0</td>\n",
       "      <td>0.0</td>\n",
       "      <td>0.0</td>\n",
       "      <td>1.0</td>\n",
       "      <td>1.0</td>\n",
       "      <td>...</td>\n",
       "      <td>0.0</td>\n",
       "      <td>0.0</td>\n",
       "      <td>0.0</td>\n",
       "      <td>0.0</td>\n",
       "      <td>0.0</td>\n",
       "      <td>1.0</td>\n",
       "      <td>0.805556</td>\n",
       "      <td>0.181395</td>\n",
       "      <td>0.411111</td>\n",
       "      <td>0.109244</td>\n",
       "    </tr>\n",
       "    <tr>\n",
       "      <th>2</th>\n",
       "      <td>1</td>\n",
       "      <td>1.0</td>\n",
       "      <td>1.0</td>\n",
       "      <td>0.0</td>\n",
       "      <td>0.0</td>\n",
       "      <td>0.0</td>\n",
       "      <td>0.0</td>\n",
       "      <td>1.0</td>\n",
       "      <td>1.0</td>\n",
       "      <td>0.0</td>\n",
       "      <td>...</td>\n",
       "      <td>0.0</td>\n",
       "      <td>0.0</td>\n",
       "      <td>0.0</td>\n",
       "      <td>0.0</td>\n",
       "      <td>0.0</td>\n",
       "      <td>1.0</td>\n",
       "      <td>0.708333</td>\n",
       "      <td>0.139535</td>\n",
       "      <td>0.811111</td>\n",
       "      <td>0.504202</td>\n",
       "    </tr>\n",
       "    <tr>\n",
       "      <th>3</th>\n",
       "      <td>0</td>\n",
       "      <td>1.0</td>\n",
       "      <td>1.0</td>\n",
       "      <td>0.0</td>\n",
       "      <td>0.0</td>\n",
       "      <td>0.0</td>\n",
       "      <td>0.0</td>\n",
       "      <td>0.0</td>\n",
       "      <td>1.0</td>\n",
       "      <td>0.0</td>\n",
       "      <td>...</td>\n",
       "      <td>0.0</td>\n",
       "      <td>1.0</td>\n",
       "      <td>0.0</td>\n",
       "      <td>0.0</td>\n",
       "      <td>1.0</td>\n",
       "      <td>0.0</td>\n",
       "      <td>0.819444</td>\n",
       "      <td>0.553488</td>\n",
       "      <td>0.077778</td>\n",
       "      <td>0.529412</td>\n",
       "    </tr>\n",
       "    <tr>\n",
       "      <th>4</th>\n",
       "      <td>1</td>\n",
       "      <td>1.0</td>\n",
       "      <td>0.0</td>\n",
       "      <td>1.0</td>\n",
       "      <td>0.0</td>\n",
       "      <td>0.0</td>\n",
       "      <td>0.0</td>\n",
       "      <td>1.0</td>\n",
       "      <td>1.0</td>\n",
       "      <td>0.0</td>\n",
       "      <td>...</td>\n",
       "      <td>0.0</td>\n",
       "      <td>1.0</td>\n",
       "      <td>0.0</td>\n",
       "      <td>0.0</td>\n",
       "      <td>1.0</td>\n",
       "      <td>0.0</td>\n",
       "      <td>0.986111</td>\n",
       "      <td>0.111628</td>\n",
       "      <td>0.711111</td>\n",
       "      <td>0.680672</td>\n",
       "    </tr>\n",
       "  </tbody>\n",
       "</table>\n",
       "<p>5 rows × 32 columns</p>\n",
       "</div>"
      ],
      "text/plain": [
       "   Recurrence  Gender_Male  Race/Ethnicity_Asian  Race/Ethnicity_Caucasian  \\\n",
       "0           1          0.0                   0.0                       0.0   \n",
       "1           1          1.0                   0.0                       1.0   \n",
       "2           1          1.0                   1.0                       0.0   \n",
       "3           0          1.0                   1.0                       0.0   \n",
       "4           1          1.0                   0.0                       1.0   \n",
       "\n",
       "   Race/Ethnicity_Hispanic  Race/Ethnicity_Other  SmokingStatus_Non-Smoker  \\\n",
       "0                      0.0                   1.0                       0.0   \n",
       "1                      0.0                   0.0                       0.0   \n",
       "2                      0.0                   0.0                       0.0   \n",
       "3                      0.0                   0.0                       0.0   \n",
       "4                      0.0                   0.0                       0.0   \n",
       "\n",
       "   SmokingStatus_Smoker  FamilyHistory_Yes  CancerType_Colon  ...  \\\n",
       "0                   1.0                1.0               0.0  ...   \n",
       "1                   0.0                1.0               1.0  ...   \n",
       "2                   1.0                1.0               0.0  ...   \n",
       "3                   0.0                1.0               0.0  ...   \n",
       "4                   1.0                1.0               0.0  ...   \n",
       "\n",
       "   GeneticMarker_EGFR  GeneticMarker_KRAS  GeneticMarker_Not Taken  \\\n",
       "0                 0.0                 0.0                      1.0   \n",
       "1                 0.0                 0.0                      0.0   \n",
       "2                 0.0                 0.0                      0.0   \n",
       "3                 0.0                 1.0                      0.0   \n",
       "4                 0.0                 1.0                      0.0   \n",
       "\n",
       "   HospitalRegion_North  HospitalRegion_South  HospitalRegion_West       Age  \\\n",
       "0                   0.0                   1.0                  0.0  0.861111   \n",
       "1                   0.0                   0.0                  1.0  0.805556   \n",
       "2                   0.0                   0.0                  1.0  0.708333   \n",
       "3                   0.0                   1.0                  0.0  0.819444   \n",
       "4                   0.0                   1.0                  0.0  0.986111   \n",
       "\n",
       "        BMI  TumorSize  SurvivalMonths  \n",
       "0  0.223256   0.077778        0.857143  \n",
       "1  0.181395   0.411111        0.109244  \n",
       "2  0.139535   0.811111        0.504202  \n",
       "3  0.553488   0.077778        0.529412  \n",
       "4  0.111628   0.711111        0.680672  \n",
       "\n",
       "[5 rows x 32 columns]"
      ]
     },
     "execution_count": 9,
     "metadata": {},
     "output_type": "execute_result"
    }
   ],
   "source": [
    "cancer = pd.read_csv(r\"D:\\Personal Projects\\cancer_encoded_dataset.csv\")\n",
    "cancer.head()"
   ]
  },
  {
   "cell_type": "code",
   "execution_count": 10,
   "id": "2f1e36b6",
   "metadata": {},
   "outputs": [],
   "source": [
    "predictors = cancer.loc[:,['Gender_Male', 'Race/Ethnicity_Other', 'SmokingStatus_Smoker',\n",
    "       'FamilyHistory_Yes', 'Stage_II', 'Stage_IV', 'TreatmentType_Surgery',\n",
    "       'TreatmentResponse_No Response', 'TreatmentResponse_Partial Remission',\n",
    "       'GeneticMarker_EGFR', 'HospitalRegion_South', 'Age', 'BMI', 'TumorSize',\n",
    "       'SurvivalMonths']]"
   ]
  },
  {
   "cell_type": "code",
   "execution_count": 17,
   "id": "cc6fac37",
   "metadata": {},
   "outputs": [
    {
     "data": {
      "text/plain": [
       "(17686, 15)"
      ]
     },
     "execution_count": 17,
     "metadata": {},
     "output_type": "execute_result"
    }
   ],
   "source": [
    "predictors.shape"
   ]
  },
  {
   "cell_type": "code",
   "execution_count": 18,
   "id": "6fd43b0d",
   "metadata": {},
   "outputs": [],
   "source": [
    "target = cancer['Recurrence']"
   ]
  },
  {
   "cell_type": "markdown",
   "id": "a77da7f8",
   "metadata": {},
   "source": [
    "## Partition the train and test data"
   ]
  },
  {
   "cell_type": "code",
   "execution_count": 14,
   "id": "fd952d78",
   "metadata": {},
   "outputs": [],
   "source": [
    "from sklearn.model_selection import train_test_split"
   ]
  },
  {
   "cell_type": "code",
   "execution_count": 23,
   "id": "e0e6cd2a",
   "metadata": {},
   "outputs": [],
   "source": [
    "x_train,x_test,y_train,y_test = train_test_split(predictors, target, test_size= 0.25, random_state = 42)"
   ]
  },
  {
   "cell_type": "code",
   "execution_count": 24,
   "id": "b023043b",
   "metadata": {},
   "outputs": [
    {
     "data": {
      "text/plain": [
       "((4422, 15), (4422,))"
      ]
     },
     "execution_count": 24,
     "metadata": {},
     "output_type": "execute_result"
    }
   ],
   "source": [
    "x_test.shape, y_test.shape"
   ]
  },
  {
   "cell_type": "code",
   "execution_count": 25,
   "id": "4f95aa62",
   "metadata": {},
   "outputs": [
    {
     "data": {
      "text/plain": [
       "((13264, 15), (13264,))"
      ]
     },
     "execution_count": 25,
     "metadata": {},
     "output_type": "execute_result"
    }
   ],
   "source": [
    "x_train.shape, y_train.shape"
   ]
  },
  {
   "cell_type": "markdown",
   "id": "7dd73e92",
   "metadata": {},
   "source": [
    "#### 75% data is taken for training the model and 25% data is taken for testing the model"
   ]
  },
  {
   "cell_type": "code",
   "execution_count": null,
   "id": "7702cec3",
   "metadata": {},
   "outputs": [],
   "source": []
  },
  {
   "cell_type": "markdown",
   "id": "2343251e",
   "metadata": {},
   "source": [
    "## Model Selection"
   ]
  },
  {
   "cell_type": "markdown",
   "id": "95359a95",
   "metadata": {},
   "source": [
    "### Logistic Regression"
   ]
  },
  {
   "cell_type": "code",
   "execution_count": 26,
   "id": "1a02976f",
   "metadata": {},
   "outputs": [],
   "source": [
    "from sklearn.linear_model import LogisticRegression\n",
    "from sklearn.metrics import accuracy_score, classification_report"
   ]
  },
  {
   "cell_type": "code",
   "execution_count": 27,
   "id": "75446aad",
   "metadata": {},
   "outputs": [
    {
     "data": {
      "text/plain": [
       "0.5036182722749887"
      ]
     },
     "execution_count": 27,
     "metadata": {},
     "output_type": "execute_result"
    }
   ],
   "source": [
    "log_reg = LogisticRegression(random_state=42)\n",
    "\n",
    "log_reg.fit(x_train, y_train)\n",
    "log_reg_pred = log_reg.predict(x_test)\n",
    "log_reg_accuracy = accuracy_score(y_test, log_reg_pred)\n",
    "\n",
    "log_reg_accuracy"
   ]
  },
  {
   "cell_type": "code",
   "execution_count": 29,
   "id": "7c2b2c75",
   "metadata": {},
   "outputs": [
    {
     "name": "stdout",
     "output_type": "stream",
     "text": [
      "              precision    recall  f1-score   support\n",
      "\n",
      "           0       0.49      0.69      0.58      2161\n",
      "           1       0.52      0.32      0.40      2261\n",
      "\n",
      "    accuracy                           0.50      4422\n",
      "   macro avg       0.51      0.51      0.49      4422\n",
      "weighted avg       0.51      0.50      0.49      4422\n",
      "\n"
     ]
    }
   ],
   "source": [
    "print(classification_report(y_test, log_reg_pred))"
   ]
  },
  {
   "cell_type": "markdown",
   "id": "b09be8b2",
   "metadata": {},
   "source": [
    "##### The model has 50% accuracy, it means 50% of all predictions made by the model are correct. The precision is 0.52, it means 52% of the positive predictions made by the model are actually correct and the recall is 0.32, it means the model correctly identified 32% of all the actual positive instances."
   ]
  },
  {
   "cell_type": "markdown",
   "id": "d580bf23",
   "metadata": {},
   "source": [
    "### Random Forest Classifier"
   ]
  },
  {
   "cell_type": "code",
   "execution_count": 30,
   "id": "0da2c812",
   "metadata": {},
   "outputs": [],
   "source": [
    "from sklearn.ensemble import RandomForestClassifier"
   ]
  },
  {
   "cell_type": "code",
   "execution_count": 32,
   "id": "1429619f",
   "metadata": {},
   "outputs": [
    {
     "data": {
      "text/plain": [
       "0.49072817729534146"
      ]
     },
     "execution_count": 32,
     "metadata": {},
     "output_type": "execute_result"
    }
   ],
   "source": [
    "rf_classifier = RandomForestClassifier(random_state=42)\n",
    "\n",
    "rf_classifier.fit(x_train, y_train)\n",
    "rf_pred = rf_classifier.predict(x_test)\n",
    "rf_accuracy = accuracy_score(y_test, rf_pred)\n",
    "\n",
    "rf_accuracy"
   ]
  },
  {
   "cell_type": "code",
   "execution_count": 33,
   "id": "7b2a6363",
   "metadata": {},
   "outputs": [
    {
     "name": "stdout",
     "output_type": "stream",
     "text": [
      "\n",
      "Random Forest Classifier Classification Report:\n",
      "               precision    recall  f1-score   support\n",
      "\n",
      "           0       0.48      0.54      0.51      2161\n",
      "           1       0.50      0.44      0.47      2261\n",
      "\n",
      "    accuracy                           0.49      4422\n",
      "   macro avg       0.49      0.49      0.49      4422\n",
      "weighted avg       0.49      0.49      0.49      4422\n",
      "\n"
     ]
    }
   ],
   "source": [
    "print(\"\\nRandom Forest Classifier Classification Report:\\n\", classification_report(y_test, rf_pred))"
   ]
  },
  {
   "cell_type": "markdown",
   "id": "af9f03dd",
   "metadata": {},
   "source": [
    "##### The model has 49% accuracy, it means 49% of all predictions made by the model are correct. The precision is 0.50, it means 50% of the positive predictions made by the model are actually correct and the recall is 0.54, it means the model correctly identified 54% of all the actual positive instances."
   ]
  },
  {
   "cell_type": "markdown",
   "id": "cfe031ed",
   "metadata": {},
   "source": [
    "### Support Vector Machine (SVM)"
   ]
  },
  {
   "cell_type": "code",
   "execution_count": 34,
   "id": "1b1ea49b",
   "metadata": {},
   "outputs": [],
   "source": [
    "from sklearn.svm import SVC"
   ]
  },
  {
   "cell_type": "code",
   "execution_count": 36,
   "id": "2777e861",
   "metadata": {},
   "outputs": [
    {
     "data": {
      "text/plain": [
       "0.5038444142921755"
      ]
     },
     "execution_count": 36,
     "metadata": {},
     "output_type": "execute_result"
    }
   ],
   "source": [
    "svm_classifier = SVC(random_state=42)\n",
    "\n",
    "svm_classifier.fit(x_train, y_train)\n",
    "svm_pred = svm_classifier.predict(x_test)\n",
    "svm_accuracy = accuracy_score(y_test, svm_pred)\n",
    "\n",
    "svm_accuracy"
   ]
  },
  {
   "cell_type": "code",
   "execution_count": 37,
   "id": "c6ba591f",
   "metadata": {},
   "outputs": [
    {
     "name": "stdout",
     "output_type": "stream",
     "text": [
      "\n",
      "SVM Classification Report:\n",
      "               precision    recall  f1-score   support\n",
      "\n",
      "           0       0.49      0.52      0.51      2161\n",
      "           1       0.52      0.49      0.50      2261\n",
      "\n",
      "    accuracy                           0.50      4422\n",
      "   macro avg       0.50      0.50      0.50      4422\n",
      "weighted avg       0.50      0.50      0.50      4422\n",
      "\n"
     ]
    }
   ],
   "source": [
    "print(\"\\nSVM Classification Report:\\n\", classification_report(y_test, svm_pred))"
   ]
  },
  {
   "cell_type": "markdown",
   "id": "09c4929d",
   "metadata": {},
   "source": []
  },
  {
   "cell_type": "code",
   "execution_count": null,
   "id": "5b7574f2",
   "metadata": {},
   "outputs": [],
   "source": []
  },
  {
   "cell_type": "code",
   "execution_count": null,
   "id": "17445c43",
   "metadata": {},
   "outputs": [],
   "source": []
  },
  {
   "cell_type": "code",
   "execution_count": null,
   "id": "f1745c0d",
   "metadata": {},
   "outputs": [],
   "source": []
  },
  {
   "cell_type": "code",
   "execution_count": null,
   "id": "08fbe95a",
   "metadata": {},
   "outputs": [],
   "source": []
  },
  {
   "cell_type": "code",
   "execution_count": null,
   "id": "274376ee",
   "metadata": {},
   "outputs": [],
   "source": []
  },
  {
   "cell_type": "code",
   "execution_count": null,
   "id": "5bf0d878",
   "metadata": {},
   "outputs": [],
   "source": []
  }
 ],
 "metadata": {
  "kernelspec": {
   "display_name": "Python 3 (ipykernel)",
   "language": "python",
   "name": "python3"
  },
  "language_info": {
   "codemirror_mode": {
    "name": "ipython",
    "version": 3
   },
   "file_extension": ".py",
   "mimetype": "text/x-python",
   "name": "python",
   "nbconvert_exporter": "python",
   "pygments_lexer": "ipython3",
   "version": "3.11.5"
  }
 },
 "nbformat": 4,
 "nbformat_minor": 5
}
